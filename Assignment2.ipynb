{
 "cells": [
  {
   "cell_type": "markdown",
   "id": "d044d981-c8f3-4e54-961a-c8a50be477af",
   "metadata": {},
   "source": [
    "Q1. How do you comment code in Python? What are the different types of comments?"
   ]
  },
  {
   "cell_type": "raw",
   "id": "3881ad5b-87ac-4d69-bfcf-e91c4b7e6299",
   "metadata": {},
   "source": [
    "In Python programming, you can comment your code to add explanations or notes that are not executed by the interpreter.\n",
    "There are two common ways to write comments in Python:\n"
   ]
  },
  {
   "cell_type": "raw",
   "id": "34df5c45-5fe2-4ebb-85de-cac764f7e59b",
   "metadata": {},
   "source": [
    "1)  Single-line comments: To write a comment that spans a single line, you can use the hash character ('#').Anything after the hash symbol on the same line is considered a comment and is ignored by the Python interpreter. "
   ]
  },
  {
   "cell_type": "code",
   "execution_count": 1,
   "id": "ed719eec-e7e2-4a43-8919-b637e3811973",
   "metadata": {},
   "outputs": [
    {
     "name": "stdout",
     "output_type": "stream",
     "text": [
      "Hello, World\n"
     ]
    }
   ],
   "source": [
    "#EX.\n",
    "\n",
    "# This is a single-line comment in Python\n",
    "print(\"Hello, World\")"
   ]
  },
  {
   "cell_type": "raw",
   "id": "f2ae70c8-345f-4ff4-b5c4-2a73bc764823",
   "metadata": {},
   "source": [
    "2) Multi-line comments: If you need to write a comment that spans multiple lines, you can use triple quotes (' ''' ' or' \"\"\" ') to enclose the comment.Multi-line comments are typically used for documentation purposes."
   ]
  },
  {
   "cell_type": "code",
   "execution_count": 2,
   "id": "807ecbe4-2faf-411e-9bec-89bdfd9e046d",
   "metadata": {},
   "outputs": [
    {
     "name": "stdout",
     "output_type": "stream",
     "text": [
      "Hello, World!\n"
     ]
    }
   ],
   "source": [
    "#EX.\n",
    "\n",
    "\n",
    "''' This is a multi-line comment in Python.\n",
    "It can span multiple lines and is enclosed by triple quotes.'''\n",
    "print(\"Hello, World!\")"
   ]
  },
  {
   "cell_type": "code",
   "execution_count": null,
   "id": "f45a9d07-94d8-48e1-9b3e-38b9e9131635",
   "metadata": {},
   "outputs": [],
   "source": []
  },
  {
   "cell_type": "code",
   "execution_count": null,
   "id": "2cd84bc4-9d4c-4866-9f46-92d1b411257c",
   "metadata": {},
   "outputs": [],
   "source": []
  },
  {
   "cell_type": "markdown",
   "id": "f6fad086-6854-430c-bf5f-8063e504a0db",
   "metadata": {},
   "source": [
    "Q2. What are variables in Python? How do you declare and assign values to variables?"
   ]
  },
  {
   "cell_type": "raw",
   "id": "267fc0aa-0276-4a75-a9e5-7772f9f4d9c6",
   "metadata": {},
   "source": [
    "In Python Programming, variables are used to store data values. They act as containers that hold values of various types, such as numbers, strings, or other objects. Variables provide a way to refer to and manipulate data throughout your program.\n",
    "\n",
    "To declre and assign a value to a variable in python,you need to use the assignment operator('=')."
   ]
  },
  {
   "cell_type": "code",
   "execution_count": 3,
   "id": "73b517a7-94f1-4a3b-a613-da4648428107",
   "metadata": {},
   "outputs": [
    {
     "name": "stdout",
     "output_type": "stream",
     "text": [
      "Kevin\n",
      "19\n",
      "5.9\n"
     ]
    }
   ],
   "source": [
    "#EX.\n",
    "\n",
    "#Variable declaration and assignment\n",
    "name = \"Kevin\"\n",
    "age = 19\n",
    "height = 5.9\n",
    "\n",
    "#Printing the variable values\n",
    "print(name)\n",
    "print(age)\n",
    "print(height)\n"
   ]
  },
  {
   "cell_type": "markdown",
   "id": "1246c72b-70bc-4910-b781-7ef1395a5b2b",
   "metadata": {},
   "source": [
    "You can also assign new values to variables at any point in the code:"
   ]
  },
  {
   "cell_type": "code",
   "execution_count": 5,
   "id": "b9105e58-db57-4312-963a-8658a71331d1",
   "metadata": {},
   "outputs": [
    {
     "name": "stdout",
     "output_type": "stream",
     "text": [
      "Kevin\n"
     ]
    }
   ],
   "source": [
    "#EX.\n",
    "\n",
    "name = \"Kevin\" #initial assigned value\n",
    "print(name)"
   ]
  },
  {
   "cell_type": "code",
   "execution_count": 6,
   "id": "e99304d5-fc3b-4821-b834-f1dece1bd896",
   "metadata": {},
   "outputs": [
    {
     "name": "stdout",
     "output_type": "stream",
     "text": [
      "kevin\n"
     ]
    }
   ],
   "source": [
    "name = \"kevin\" #reassigned value\n",
    "print(name)"
   ]
  },
  {
   "cell_type": "code",
   "execution_count": null,
   "id": "61779913-4a00-4a1f-80c0-261378099714",
   "metadata": {},
   "outputs": [],
   "source": []
  },
  {
   "cell_type": "code",
   "execution_count": null,
   "id": "d0451fc1-4c64-4a47-a6d1-664b8a42524d",
   "metadata": {},
   "outputs": [],
   "source": []
  },
  {
   "cell_type": "markdown",
   "id": "28e985c2-721d-4a92-8e0c-df1c17fc4420",
   "metadata": {},
   "source": [
    "Q3. How do you convert one data type to another in Python?"
   ]
  },
  {
   "cell_type": "markdown",
   "id": "faea04d4-9dd7-485f-b985-ebb31f8c8aa6",
   "metadata": {},
   "source": [
    "In Python Programming, you can convert one data type to another using built-in functions or techniques specific to each data type. Here are some common methods for data type conversion:"
   ]
  },
  {
   "cell_type": "raw",
   "id": "e103e23d-a62d-4152-8ad3-4d2a27501775",
   "metadata": {},
   "source": [
    "Type Casting:\n",
    "      Python provides built-in functions to explicitly convert one data type to another. These functions are called type casting functions. Here are some commonly used type casting functions:\n",
    "\n",
    "'int()': Converts a value to an integer.\n",
    "'float()': Converts a value to a floating-point number.\n",
    "'str()': Converts a value to a string.\n",
    "'bool()': Converts a value to a Boolean (True or False)."
   ]
  },
  {
   "cell_type": "code",
   "execution_count": 8,
   "id": "c5ae3de3-3efc-44fe-afcc-881c05c86243",
   "metadata": {},
   "outputs": [
    {
     "name": "stdout",
     "output_type": "stream",
     "text": [
      "13\n"
     ]
    }
   ],
   "source": [
    "#EX.\n",
    "\n",
    "num1 = 10\n",
    "num2 = 3.5\n",
    "\n",
    "# Type Casting\n",
    "result = num1 + int(num2)\n",
    "print(result)  \n"
   ]
  },
  {
   "cell_type": "code",
   "execution_count": null,
   "id": "13d30226-cdb8-4665-a95b-fa1eaf468f79",
   "metadata": {},
   "outputs": [],
   "source": []
  },
  {
   "cell_type": "code",
   "execution_count": null,
   "id": "faa79977-3f6e-40d0-8610-7dfe0b4deb0b",
   "metadata": {},
   "outputs": [],
   "source": []
  },
  {
   "cell_type": "markdown",
   "id": "72c5fb87-d32a-4f8f-9718-d8c8effaedec",
   "metadata": {},
   "source": [
    "Q4. How do you write and execute a Python script from the command line?"
   ]
  },
  {
   "cell_type": "raw",
   "id": "e70912bc-6499-4e07-9dbc-d79b057881b3",
   "metadata": {},
   "source": [
    "To write and execute a Python script from the command line, you can follow these below steps:"
   ]
  },
  {
   "cell_type": "raw",
   "id": "b5582747-d41f-42da-8f05-53dd7c747c3d",
   "metadata": {},
   "source": [
    "1) Open a text editor or an Integrated Development Environment (IDE) to write your Python script. Create a new file and save it with a .py extension. For example, you can save the file as script.py.\n",
    "\n",
    "2) Write your Python code in the file. For example, let's create a simple script that prints \"Hello, World!\":"
   ]
  },
  {
   "cell_type": "code",
   "execution_count": null,
   "id": "136880bd-27cb-4e9f-bde2-809b5e1cadf5",
   "metadata": {},
   "outputs": [],
   "source": [
    "#Ex.\n",
    "\n",
    "#script.py\n",
    "print(\"Hello, World!\")"
   ]
  },
  {
   "cell_type": "raw",
   "id": "8aa24957-93a7-404b-a71d-e1f14334e9bd",
   "metadata": {},
   "source": [
    "Save the file after writing your Python code.\n",
    "\n",
    "Open a command prompt or terminal window.\n",
    "\n",
    "Navigate to the directory where you saved the Python script using the 'cd' command. For example, if your script is saved in the 'Documents' folder, you can navigate to it like this (on Windows):"
   ]
  },
  {
   "cell_type": "code",
   "execution_count": null,
   "id": "c8a85d05-757e-4a81-bc0f-07b77e1726ec",
   "metadata": {},
   "outputs": [],
   "source": [
    "#Ex.\n",
    "cd Documents"
   ]
  },
  {
   "cell_type": "raw",
   "id": "105cc519-ffd5-421a-a221-8d4dc1eef857",
   "metadata": {},
   "source": [
    "Once you're in the correct directory, you can execute the Python script by running the 'python' command followed by the name of your script file. For example:"
   ]
  },
  {
   "cell_type": "code",
   "execution_count": null,
   "id": "0da9e33f-f88f-4595-8e71-b119e41bcf44",
   "metadata": {},
   "outputs": [],
   "source": [
    "#Ex.\n",
    "python script.py"
   ]
  },
  {
   "cell_type": "raw",
   "id": "765621bc-e6c4-4879-a1ab-7a7aa48cffe7",
   "metadata": {},
   "source": [
    "This command tells the Python interpreter to execute the code in script.py. If everything is set up correctly, you should see the output of your script printed in the command prompt or terminal:"
   ]
  },
  {
   "cell_type": "code",
   "execution_count": null,
   "id": "16b5436c-bb00-45b1-84f0-75393e349aec",
   "metadata": {},
   "outputs": [],
   "source": [
    "#Ex.\n",
    "Hello, World!"
   ]
  },
  {
   "cell_type": "raw",
   "id": "355289b2-d410-4338-8618-077b105e3aa5",
   "metadata": {},
   "source": [
    "You have successfully written and executed a Python script from the command line."
   ]
  },
  {
   "cell_type": "code",
   "execution_count": null,
   "id": "f0196547-e622-4cda-95ae-76a5176b9ab6",
   "metadata": {},
   "outputs": [],
   "source": []
  },
  {
   "cell_type": "code",
   "execution_count": null,
   "id": "d79c6363-4bc4-4580-938d-31169cfead6c",
   "metadata": {},
   "outputs": [],
   "source": []
  },
  {
   "cell_type": "raw",
   "id": "7887b9ef-ab76-4eec-ab76-058149916f70",
   "metadata": {},
   "source": [
    "Q5. Given a list my_list = [1, 2, 3, 4, 5], write the code to slice the list and obtain the sub-list [2, 3]."
   ]
  },
  {
   "cell_type": "raw",
   "id": "2e23b60e-cdd7-4b23-aa85-3e97146e6cd5",
   "metadata": {},
   "source": [
    "To slice the list my_list and obtain the sub-list [2, 3], you can use Python's list slicing syntax."
   ]
  },
  {
   "cell_type": "code",
   "execution_count": 9,
   "id": "7f0099dd-ccfd-4d1e-8161-eb28341e38f9",
   "metadata": {},
   "outputs": [
    {
     "name": "stdout",
     "output_type": "stream",
     "text": [
      "[2, 3]\n"
     ]
    }
   ],
   "source": [
    "my_list = [1, 2, 3, 4, 5]\n",
    "sub_list = my_list[1:3]\n",
    "print(sub_list)"
   ]
  },
  {
   "cell_type": "code",
   "execution_count": null,
   "id": "353883a6-2462-44cc-b349-f4dbfb3cc90b",
   "metadata": {},
   "outputs": [],
   "source": []
  },
  {
   "cell_type": "code",
   "execution_count": null,
   "id": "4dda4b1d-3ee2-441a-bb58-f389db31bc7b",
   "metadata": {},
   "outputs": [],
   "source": []
  },
  {
   "cell_type": "raw",
   "id": "3e6bcd9d-26dc-41f3-8228-e4a96fe7fd71",
   "metadata": {},
   "source": [
    "Q6. What is a complex number in mathematics, and how is it represented in Python?"
   ]
  },
  {
   "cell_type": "raw",
   "id": "9fbafee2-4e6c-4b55-bee0-245cfde7d93f",
   "metadata": {},
   "source": [
    "In mathematics, a complex number is a number that comprises a real part and an imaginary part. It is represented in the form 'a + bi', where 'a' is the real part, 'b' is the imaginary part, and 'i' is the imaginary unit."
   ]
  },
  {
   "cell_type": "raw",
   "id": "0dee5f0a-6670-4865-8f96-2773665317e2",
   "metadata": {},
   "source": [
    "In Python, complex numbers can be represented using the 'complex' data type. The imaginary part is denoted by appending 'j' or 'J' to the value. "
   ]
  },
  {
   "cell_type": "code",
   "execution_count": 10,
   "id": "217bed1e-34c2-4c23-8fb1-391cb0db6f2a",
   "metadata": {},
   "outputs": [
    {
     "name": "stdout",
     "output_type": "stream",
     "text": [
      "(2+3j)\n",
      "(-1.5+0.5j)\n",
      "(4-2j)\n"
     ]
    }
   ],
   "source": [
    "#EX.\n",
    "\n",
    "#Declare a variable with complex values\n",
    "z1 = 2 + 3j\n",
    "z2 = -1.5 + 0.5j\n",
    "z3 = complex(4, -2)\n",
    "\n",
    "#printing the variables\n",
    "print(z1)  \n",
    "print(z2)  \n",
    "print(z3)\n"
   ]
  },
  {
   "cell_type": "raw",
   "id": "cd524324-ca1d-44c7-8f2f-e6884081c4a7",
   "metadata": {},
   "source": [
    "Here is a example for check who is real and imaginary in complax number."
   ]
  },
  {
   "cell_type": "code",
   "execution_count": 11,
   "id": "93b4b168-1759-4dba-8523-7192ed21cd52",
   "metadata": {},
   "outputs": [
    {
     "name": "stdout",
     "output_type": "stream",
     "text": [
      "2.0\n",
      "3.0\n"
     ]
    }
   ],
   "source": [
    "z1\n",
    "print(z1.real)\n",
    "print(z1.imag)"
   ]
  },
  {
   "cell_type": "code",
   "execution_count": null,
   "id": "352fa658-8b7c-4f32-b4a5-2a6e316b2a6b",
   "metadata": {},
   "outputs": [],
   "source": []
  },
  {
   "cell_type": "code",
   "execution_count": null,
   "id": "dda01c74-0814-443c-9244-877754274978",
   "metadata": {},
   "outputs": [],
   "source": []
  },
  {
   "cell_type": "raw",
   "id": "147664df-39d8-4c56-b6af-c0d1ee872883",
   "metadata": {},
   "source": [
    "Q7. What is the correct way to declare a variable named age and assign the value 25 to it?"
   ]
  },
  {
   "cell_type": "raw",
   "id": "a1ef908c-f536-4064-8df5-7b1bb2c69e9f",
   "metadata": {},
   "source": [
    "The correct way to declare a variable named 'age' and assign the value '25' to it in Python is as follows:"
   ]
  },
  {
   "cell_type": "code",
   "execution_count": 12,
   "id": "3d55fc11-913d-4bc8-8e96-c765b426fbfe",
   "metadata": {},
   "outputs": [],
   "source": [
    "age = 25"
   ]
  },
  {
   "cell_type": "raw",
   "id": "f969059c-2b84-49a0-8265-372377133797",
   "metadata": {},
   "source": [
    "In the code above, the variable 'age' is declared on the left-hand side of the assignment operator ('='), and the value '25' is assigned to it on the right-hand side.By default, variables in Python are mutable, meaning you can assign new values to them at any point in your program. If you reassign a new value to the 'age' variable, it will be overwritten with the new value."
   ]
  },
  {
   "cell_type": "code",
   "execution_count": null,
   "id": "f1eadd9f-abbe-42a7-be0e-b4ff17e8cce2",
   "metadata": {},
   "outputs": [],
   "source": []
  },
  {
   "cell_type": "code",
   "execution_count": null,
   "id": "302623e0-08ec-4905-a399-c6ba1a021904",
   "metadata": {},
   "outputs": [],
   "source": []
  },
  {
   "cell_type": "raw",
   "id": "dcb1fea8-920c-4012-9b19-0d766945b74d",
   "metadata": {},
   "source": [
    "Q8. Declare a variable named price and assign the value 9.99 to it. What data type does this variable\n",
    "belong to?"
   ]
  },
  {
   "cell_type": "raw",
   "id": "ce65ee4c-ea98-4c34-99b8-66c095001de1",
   "metadata": {},
   "source": [
    "To declare a variable named price and assign the value 9.99 to it, you can use the following code:"
   ]
  },
  {
   "cell_type": "code",
   "execution_count": 13,
   "id": "e076ee1e-91f2-45f4-a6cc-45f8fb8e69f7",
   "metadata": {},
   "outputs": [],
   "source": [
    "price = 9.99"
   ]
  },
  {
   "cell_type": "raw",
   "id": "2ca153ab-fe5f-400c-9ef8-ffdbfa35e7ab",
   "metadata": {},
   "source": [
    "In this case, the variable 'price' is assigned a value of '9.99', which is a decimal number. In Python, decimal numbers without any suffix or specifier are considered floating-point numbers, represented by the 'float' data type.\n",
    "The variable 'price' in this case belongs to the 'float' data type, representing a floating-point number. Floating-point numbers are used to represent real numbers with decimal places in Python."
   ]
  },
  {
   "cell_type": "code",
   "execution_count": null,
   "id": "4d741c26-3120-4779-9d19-dcb4fa185240",
   "metadata": {},
   "outputs": [],
   "source": []
  },
  {
   "cell_type": "code",
   "execution_count": null,
   "id": "4abbff1c-c94b-445f-9aba-73c9ce1a833d",
   "metadata": {},
   "outputs": [],
   "source": []
  },
  {
   "cell_type": "raw",
   "id": "107c7dcf-e09a-4c78-ae4f-9fc0b7e9e221",
   "metadata": {},
   "source": [
    "Q9. Create a variable named name and assign your full name to it as a string. How would you print the\n",
    "value of this variable?"
   ]
  },
  {
   "cell_type": "raw",
   "id": "6c3e6855-6023-409a-bcb3-510ff4d36aea",
   "metadata": {},
   "source": [
    "To create a variable named name and assign your full name to it as a string, you can use the following code:"
   ]
  },
  {
   "cell_type": "code",
   "execution_count": 14,
   "id": "a9dd05bd-4682-419f-8f1c-9082414b7d72",
   "metadata": {},
   "outputs": [],
   "source": [
    "name = \"Patel Kevin\""
   ]
  },
  {
   "cell_type": "raw",
   "id": "52bf5405-8cbc-47ee-ba53-b416b7249138",
   "metadata": {},
   "source": [
    "To print the value of the 'name' variable, you can use the 'print()' function."
   ]
  },
  {
   "cell_type": "code",
   "execution_count": 15,
   "id": "ef55ed95-fede-402b-84a2-8dd1e92aacf3",
   "metadata": {},
   "outputs": [
    {
     "name": "stdout",
     "output_type": "stream",
     "text": [
      "Patel Kevin\n"
     ]
    }
   ],
   "source": [
    "print(name)"
   ]
  },
  {
   "cell_type": "raw",
   "id": "f5612ce2-138a-4f33-b22e-e49c65607981",
   "metadata": {},
   "source": [
    "And above is the output of 'name' variable."
   ]
  },
  {
   "cell_type": "code",
   "execution_count": null,
   "id": "763de084-d265-4c42-b121-1db412a970f6",
   "metadata": {},
   "outputs": [],
   "source": []
  },
  {
   "cell_type": "code",
   "execution_count": null,
   "id": "51f4bd2c-0f90-43ae-87dd-8a74256b28aa",
   "metadata": {},
   "outputs": [],
   "source": []
  },
  {
   "cell_type": "raw",
   "id": "756371b3-6570-4541-a36e-6d399d195093",
   "metadata": {},
   "source": [
    "Q10. Given the string \"Hello, World!\", extract the substring \"World\"."
   ]
  },
  {
   "cell_type": "raw",
   "id": "cbf60957-18e3-46fa-8910-99cf681e2d1c",
   "metadata": {},
   "source": [
    "To extract the substring \"World\" from the string \"Hello, World!\", you can use string slicing in Python. "
   ]
  },
  {
   "cell_type": "code",
   "execution_count": 16,
   "id": "7335a780-cf17-4709-b0d5-e40877d974ac",
   "metadata": {},
   "outputs": [
    {
     "name": "stdout",
     "output_type": "stream",
     "text": [
      "World\n"
     ]
    }
   ],
   "source": [
    "string = \"Hello, World!\"\n",
    "substring = string[7:12]\n",
    "print(substring)"
   ]
  },
  {
   "cell_type": "raw",
   "id": "d094d537-2af9-41de-9fc4-acf143e14dcb",
   "metadata": {},
   "source": [
    "In Python, string indices start from 0. So, to extract the substring \"World\", we can use the slice 'string[7:12]', where the starting index is 7 (inclusive) and the ending index is 12 (exclusive). This will include characters from index 7 up to, but not including, index 12 in the original string."
   ]
  },
  {
   "cell_type": "code",
   "execution_count": null,
   "id": "15074ecb-21bf-4b29-9a44-c74df1b749ca",
   "metadata": {},
   "outputs": [],
   "source": []
  },
  {
   "cell_type": "code",
   "execution_count": null,
   "id": "28895d11-03d4-4cd1-bb97-01f68d880772",
   "metadata": {},
   "outputs": [],
   "source": []
  },
  {
   "cell_type": "raw",
   "id": "62e342f4-c895-453e-a6d1-0a698ae99619",
   "metadata": {},
   "source": [
    "Q11. Create a variable named \"is_student\" and assign it a boolean value indicating whether you are\n",
    "currently a student or not."
   ]
  },
  {
   "cell_type": "raw",
   "id": "a9c8f331-c1f3-4cda-8b59-24e4442b88b5",
   "metadata": {},
   "source": [
    "To create a variable named is_student and assign it a boolean value indicating whether you are currently a student or not."
   ]
  },
  {
   "cell_type": "code",
   "execution_count": 17,
   "id": "9c0d9252-47e8-464e-852c-028ae3e3ffc6",
   "metadata": {},
   "outputs": [],
   "source": [
    "is_student = True"
   ]
  },
  {
   "cell_type": "raw",
   "id": "cf0bb8e6-20d4-48af-95ba-f2012ab653c9",
   "metadata": {},
   "source": [
    "the variable 'is_student' is assigned the boolean value 'True'. You can modify the value to 'False' if you are not currently a student.\n",
    "'True' and 'False' are boolean literals in Python, representing the boolean values for true and false, respectively. The variable 'is_student' will belong to the 'bool' data type, which represents boolean values.\n",
    "You can use the 'print()' function to print the value of the 'is_student' variable."
   ]
  },
  {
   "cell_type": "code",
   "execution_count": null,
   "id": "d6a45979-1616-46fc-8de3-4b6d1c3a4e2e",
   "metadata": {},
   "outputs": [],
   "source": [
    "pri"
   ]
  }
 ],
 "metadata": {
  "kernelspec": {
   "display_name": "Python 3 (ipykernel)",
   "language": "python",
   "name": "python3"
  },
  "language_info": {
   "codemirror_mode": {
    "name": "ipython",
    "version": 3
   },
   "file_extension": ".py",
   "mimetype": "text/x-python",
   "name": "python",
   "nbconvert_exporter": "python",
   "pygments_lexer": "ipython3",
   "version": "3.10.8"
  }
 },
 "nbformat": 4,
 "nbformat_minor": 5
}
