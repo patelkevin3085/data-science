{
 "cells": [
  {
   "cell_type": "markdown",
   "id": "a0afbe57-7f40-495d-9494-5c037c8a8388",
   "metadata": {},
   "source": [
    "Q1. Create one variable containing following type of data:"
   ]
  },
  {
   "cell_type": "markdown",
   "id": "562532a4-c1a5-4180-8d3b-0e94832d3b6f",
   "metadata": {},
   "source": [
    "(i)\t  string"
   ]
  },
  {
   "cell_type": "code",
   "execution_count": 1,
   "id": "b656be5c-06da-418a-a429-9329acc4b923",
   "metadata": {},
   "outputs": [],
   "source": [
    "a = \"kevin\""
   ]
  },
  {
   "cell_type": "code",
   "execution_count": 2,
   "id": "efc7e741-5fcc-4c6a-8cc7-b31907118a5b",
   "metadata": {},
   "outputs": [
    {
     "data": {
      "text/plain": [
       "'kevin'"
      ]
     },
     "execution_count": 2,
     "metadata": {},
     "output_type": "execute_result"
    }
   ],
   "source": [
    "a"
   ]
  },
  {
   "cell_type": "markdown",
   "id": "bb4f68e9-dc17-42b9-aeaa-b6fe831e6553",
   "metadata": {},
   "source": [
    "(ii)   list"
   ]
  },
  {
   "cell_type": "code",
   "execution_count": 3,
   "id": "ad586f07-21c6-45e7-80d4-4866ec193005",
   "metadata": {},
   "outputs": [],
   "source": [
    "l = [1,2,3,4,5,\"kevin\",3.1432,True]"
   ]
  },
  {
   "cell_type": "code",
   "execution_count": 4,
   "id": "1208acc7-c505-4b30-81fc-6d9b91e8ef9b",
   "metadata": {},
   "outputs": [
    {
     "data": {
      "text/plain": [
       "[1, 2, 3, 4, 5, 'kevin', 3.1432, True]"
      ]
     },
     "execution_count": 4,
     "metadata": {},
     "output_type": "execute_result"
    }
   ],
   "source": [
    "l"
   ]
  },
  {
   "cell_type": "markdown",
   "id": "2f63484f-66fd-4722-9144-a882436d77ee",
   "metadata": {},
   "source": [
    "(iii)   float"
   ]
  },
  {
   "cell_type": "code",
   "execution_count": 5,
   "id": "67e17406-64d4-41f0-9ea7-b4558798550e",
   "metadata": {},
   "outputs": [],
   "source": [
    "pi = 3.14"
   ]
  },
  {
   "cell_type": "code",
   "execution_count": 6,
   "id": "2320162c-85cd-4e06-ac35-7613473e7e56",
   "metadata": {},
   "outputs": [
    {
     "data": {
      "text/plain": [
       "3.14"
      ]
     },
     "execution_count": 6,
     "metadata": {},
     "output_type": "execute_result"
    }
   ],
   "source": [
    "pi"
   ]
  },
  {
   "cell_type": "markdown",
   "id": "b69c9842-dfe1-48d7-8571-0e6a9bd1558a",
   "metadata": {},
   "source": [
    "(iv)   tuple"
   ]
  },
  {
   "cell_type": "code",
   "execution_count": 7,
   "id": "38aa51ec-68e1-4db2-b2f6-a16d36d836ed",
   "metadata": {},
   "outputs": [],
   "source": [
    "int_tuple = (2,5,34,56,4)"
   ]
  },
  {
   "cell_type": "code",
   "execution_count": 8,
   "id": "333418b6-3e05-425e-8f4e-820f05d24ebf",
   "metadata": {},
   "outputs": [
    {
     "data": {
      "text/plain": [
       "(2, 5, 34, 56, 4)"
      ]
     },
     "execution_count": 8,
     "metadata": {},
     "output_type": "execute_result"
    }
   ],
   "source": [
    "int_tuple"
   ]
  },
  {
   "cell_type": "code",
   "execution_count": null,
   "id": "1a5963fe-095b-4b2b-acc6-6b993d02a1f6",
   "metadata": {},
   "outputs": [],
   "source": []
  },
  {
   "cell_type": "code",
   "execution_count": null,
   "id": "0f738d31-7d12-476d-96e7-77205a5bceac",
   "metadata": {},
   "outputs": [],
   "source": []
  },
  {
   "cell_type": "markdown",
   "id": "c8d75fc6-9fd0-461e-a350-b80f3ff169eb",
   "metadata": {},
   "source": [
    "Q2. Given are some following variables containing data:"
   ]
  },
  {
   "cell_type": "markdown",
   "id": "54af7e3e-b8e4-4122-90c2-ed57bd1c399c",
   "metadata": {},
   "source": [
    "(i)    var1 = ‘ ‘"
   ]
  },
  {
   "cell_type": "markdown",
   "id": "45cffcca-1ded-4682-80f6-9164115c4a3e",
   "metadata": {},
   "source": [
    "This variable contains string that contains a single space character."
   ]
  },
  {
   "cell_type": "markdown",
   "id": "deb1bebf-b61d-45ae-9ec7-ab263863ce1d",
   "metadata": {},
   "source": [
    "(ii)\tvar2 = ‘[ DS , ML , Python]’"
   ]
  },
  {
   "cell_type": "markdown",
   "id": "0f2e5559-af62-448e-9afe-c80466f581b0",
   "metadata": {},
   "source": [
    "This variable contains a list.that is representation of three element seprated by commas. the element is represents as string within single quotes."
   ]
  },
  {
   "cell_type": "markdown",
   "id": "bbe1c3a6-d84e-42bd-b97e-e85ebe571af6",
   "metadata": {},
   "source": [
    "(iii)\tvar3 = [ ‘DS’ , ’ML’ , ‘Python’ ]"
   ]
  },
  {
   "cell_type": "markdown",
   "id": "7546a0b1-5c0b-41a3-a535-515f3f38e869",
   "metadata": {},
   "source": [
    "This variable is a list that contains three elements. each represents as a string."
   ]
  },
  {
   "cell_type": "markdown",
   "id": "861efc48-704f-475b-83e0-6ac41c1aca8d",
   "metadata": {},
   "source": [
    "(iv)\tvar4 = 1."
   ]
  },
  {
   "cell_type": "markdown",
   "id": "990d9413-153e-46a1-9cc9-62e4bde7bdcc",
   "metadata": {},
   "source": [
    "This variable is an integer and its value is 1."
   ]
  },
  {
   "cell_type": "code",
   "execution_count": null,
   "id": "db68ab64-9460-4926-b713-2dea581f74d4",
   "metadata": {},
   "outputs": [],
   "source": []
  },
  {
   "cell_type": "code",
   "execution_count": null,
   "id": "594ebfe7-b706-4eaf-b36d-8c059af9a379",
   "metadata": {},
   "outputs": [],
   "source": []
  },
  {
   "cell_type": "markdown",
   "id": "3f554e35-593a-49fb-b10e-3bbc56ca1165",
   "metadata": {},
   "source": [
    "Q3. Explain the use of the following operators using an example:"
   ]
  },
  {
   "cell_type": "code",
   "execution_count": null,
   "id": "c83e1a9d-b6ac-4a57-b2d0-5982e4038a86",
   "metadata": {},
   "outputs": [],
   "source": [
    "(i)\t'/' Division Operator"
   ]
  },
  {
   "cell_type": "markdown",
   "id": "77dca8f0-0d87-4155-b947-e1cc57d11a93",
   "metadata": {},
   "source": [
    "This operator is use to divide two int variable or two numbers."
   ]
  },
  {
   "cell_type": "code",
   "execution_count": null,
   "id": "f0b59c07-22d3-484c-99cf-c93ced858a69",
   "metadata": {},
   "outputs": [],
   "source": [
    "(ii) '%' Modulous Operator"
   ]
  },
  {
   "cell_type": "markdown",
   "id": "c33e4d68-4479-4da1-8408-64ef6fe7d9be",
   "metadata": {},
   "source": [
    "This operator is use to get remainder after devide two numbers or two integars."
   ]
  },
  {
   "cell_type": "code",
   "execution_count": null,
   "id": "1dc83a4d-f789-4a79-a502-5d918379d863",
   "metadata": {},
   "outputs": [],
   "source": [
    "(iii) '//' Floor Division Operator"
   ]
  },
  {
   "cell_type": "markdown",
   "id": "bfb56777-e7cc-4645-a19e-c4ebd3d2d1b2",
   "metadata": {},
   "source": [
    "This operator is use to get the floor after division of two numbers or two integers."
   ]
  },
  {
   "cell_type": "code",
   "execution_count": null,
   "id": "b7f26cd9-4d92-439e-9925-cf36b61f06ea",
   "metadata": {},
   "outputs": [],
   "source": [
    "(iv) '**' Exponent Operator"
   ]
  },
  {
   "cell_type": "markdown",
   "id": "876da340-2599-4595-9a86-bf92c00adf2f",
   "metadata": {},
   "source": [
    "This operator raises the left operand to the power of the right operand. it returns the result of the exponent."
   ]
  },
  {
   "cell_type": "markdown",
   "id": "f77363ee-d656-4094-8910-2bb3e7377365",
   "metadata": {},
   "source": [
    "Q4. Create a list of length 10 of your choice containing multiple types of data. Using for loop print the\n",
    "element and its data type."
   ]
  },
  {
   "cell_type": "code",
   "execution_count": 9,
   "id": "0ff08b03-dd29-4208-9019-ba172c950fae",
   "metadata": {},
   "outputs": [],
   "source": [
    "l=[1,2,3,4,5,\"kevin\",\"patel\",3.1432,True,False]"
   ]
  },
  {
   "cell_type": "code",
   "execution_count": 11,
   "id": "e707232e-1297-4d68-a2af-2ba4f392eae3",
   "metadata": {},
   "outputs": [
    {
     "name": "stdout",
     "output_type": "stream",
     "text": [
      "1 <class 'int'>\n",
      "2 <class 'int'>\n",
      "3 <class 'int'>\n",
      "4 <class 'int'>\n",
      "5 <class 'int'>\n",
      "kevin <class 'str'>\n",
      "patel <class 'str'>\n",
      "3.1432 <class 'float'>\n",
      "True <class 'bool'>\n",
      "False <class 'bool'>\n"
     ]
    }
   ],
   "source": [
    "for i in l:\n",
    "    print(i,type(i))"
   ]
  },
  {
   "cell_type": "markdown",
   "id": "a2cbcafb-3129-4b76-bd40-fd46c2114f34",
   "metadata": {},
   "source": [
    "Q5. Using a while loop, verify if the number A is purely divisible by number B and if so then how many\n",
    "times it can be divisible."
   ]
  },
  {
   "cell_type": "code",
   "execution_count": 12,
   "id": "001b6a58-9c19-440f-bd04-dd898c4effba",
   "metadata": {},
   "outputs": [
    {
     "name": "stdout",
     "output_type": "stream",
     "text": [
      "Number of times 5 divides 4 completely: 2\n"
     ]
    }
   ],
   "source": [
    "A = 100\n",
    "B = 5\n",
    "count = 0\n",
    "\n",
    "while A % B == 0:\n",
    "    A = A // B\n",
    "    count += 1\n",
    "\n",
    "print(\"Number of times\", B, \"divides\", A, \"completely:\", count)"
   ]
  },
  {
   "cell_type": "markdown",
   "id": "3100709a-1fc1-47c0-9cdc-8e7d2f7b4f2b",
   "metadata": {},
   "source": [
    "Q6. Create a list containing 25 int type data. Using for loop and if-else condition print if the element is\n",
    "divisible by 3 or not."
   ]
  },
  {
   "cell_type": "code",
   "execution_count": 13,
   "id": "4cf609e9-5c8f-450e-b0ce-f4acd0f11a01",
   "metadata": {},
   "outputs": [
    {
     "name": "stdout",
     "output_type": "stream",
     "text": [
      "1 is not divisible by 3\n",
      "4 is not divisible by 3\n",
      "9 is divisible by 3\n",
      "12 is divisible by 3\n",
      "15 is divisible by 3\n",
      "18 is divisible by 3\n",
      "21 is divisible by 3\n",
      "24 is divisible by 3\n",
      "27 is divisible by 3\n",
      "30 is divisible by 3\n",
      "33 is divisible by 3\n",
      "36 is divisible by 3\n",
      "39 is divisible by 3\n",
      "42 is divisible by 3\n",
      "45 is divisible by 3\n",
      "48 is divisible by 3\n",
      "51 is divisible by 3\n",
      "54 is divisible by 3\n",
      "57 is divisible by 3\n",
      "60 is divisible by 3\n",
      "63 is divisible by 3\n",
      "66 is divisible by 3\n",
      "69 is divisible by 3\n",
      "72 is divisible by 3\n",
      "75 is divisible by 3\n"
     ]
    }
   ],
   "source": [
    "numbers = [1, 4, 9, 12, 15, 18, 21, 24, 27, 30, 33, 36, 39, 42, 45, 48, 51, 54, 57, 60, 63, 66, 69, 72, 75]\n",
    "\n",
    "for number in numbers:\n",
    "    if number % 3 == 0:\n",
    "        print(number, \"is divisible by 3\")\n",
    "    else:\n",
    "        print(number, \"is not divisible by 3\")\n"
   ]
  },
  {
   "cell_type": "markdown",
   "id": "306b7577-73c2-4b31-a837-58e177975a5b",
   "metadata": {},
   "source": [
    "Q7. What do you understand about mutable and immutable data types? Give examples for both showing\n",
    "this property."
   ]
  },
  {
   "cell_type": "markdown",
   "id": "6eb6773c-256a-4a87-a943-0e58b44746ff",
   "metadata": {},
   "source": [
    "Mutable:-\n",
    "Mutable are those data type that can be modified after they are created. Operations can directly modify the object without creating a new one."
   ]
  },
  {
   "cell_type": "code",
   "execution_count": 14,
   "id": "0788e288-2113-4b5b-8fdd-67cfc9ce6dd0",
   "metadata": {},
   "outputs": [],
   "source": [
    "#ex.\n",
    "l = [1,2,3,4,5,\"kevin\",3.1432,True]"
   ]
  },
  {
   "cell_type": "code",
   "execution_count": 15,
   "id": "c928cede-eadd-4daa-80f6-f16eb36b99e2",
   "metadata": {},
   "outputs": [],
   "source": [
    "l[3] = 400"
   ]
  },
  {
   "cell_type": "code",
   "execution_count": 16,
   "id": "89077be1-467e-4532-8433-1c523c2c4b37",
   "metadata": {},
   "outputs": [
    {
     "data": {
      "text/plain": [
       "[1, 2, 3, 400, 5, 'kevin', 3.1432, True]"
      ]
     },
     "execution_count": 16,
     "metadata": {},
     "output_type": "execute_result"
    }
   ],
   "source": [
    "l"
   ]
  },
  {
   "cell_type": "markdown",
   "id": "75da61d2-98e0-489b-9afe-8869689410fe",
   "metadata": {},
   "source": [
    "Imutable:-"
   ]
  }
 ],
 "metadata": {
  "kernelspec": {
   "display_name": "Python 3 (ipykernel)",
   "language": "python",
   "name": "python3"
  },
  "language_info": {
   "codemirror_mode": {
    "name": "ipython",
    "version": 3
   },
   "file_extension": ".py",
   "mimetype": "text/x-python",
   "name": "python",
   "nbconvert_exporter": "python",
   "pygments_lexer": "ipython3",
   "version": "3.10.8"
  }
 },
 "nbformat": 4,
 "nbformat_minor": 5
}
