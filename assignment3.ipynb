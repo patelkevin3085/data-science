{
 "cells": [
  {
   "cell_type": "markdown",
   "id": "bf2efc64-2845-4155-96f5-66bf2e199b6d",
   "metadata": {},
   "source": [
    "Q1. Which keyword is used to create a function? Create a function to return a list of odd numbers in the\n",
    "range of 1 to 25."
   ]
  },
  {
   "cell_type": "markdown",
   "id": "54d7ef69-34a9-4a95-9346-18b9bd0df12a",
   "metadata": {},
   "source": [
    "In Python programming, the keyword used to create a function is def."
   ]
  },
  {
   "cell_type": "code",
   "execution_count": 1,
   "id": "f8ed9803-46a6-47b7-b55c-a19a428d631e",
   "metadata": {},
   "outputs": [],
   "source": [
    "def get_odd_numbers():\n",
    "    odd_numbers = []\n",
    "    for num in range(1,26):\n",
    "        if num % 2 != 0:\n",
    "            odd_numbers.append(num)\n",
    "    return odd_numbers        "
   ]
  },
  {
   "cell_type": "code",
   "execution_count": 2,
   "id": "c2d60b55-c0c9-418e-addb-7959a18aa319",
   "metadata": {},
   "outputs": [
    {
     "data": {
      "text/plain": [
       "[1, 3, 5, 7, 9, 11, 13, 15, 17, 19, 21, 23, 25]"
      ]
     },
     "execution_count": 2,
     "metadata": {},
     "output_type": "execute_result"
    }
   ],
   "source": [
    "get_odd_numbers()"
   ]
  },
  {
   "cell_type": "code",
   "execution_count": null,
   "id": "9e732798-8b00-4ef5-923b-cc1f751b59a5",
   "metadata": {},
   "outputs": [],
   "source": []
  },
  {
   "cell_type": "code",
   "execution_count": null,
   "id": "b0731c5b-e4dd-434f-921f-4334f3272d16",
   "metadata": {},
   "outputs": [],
   "source": []
  },
  {
   "cell_type": "markdown",
   "id": "0db2cd21-71e2-4a71-80f6-ae3f65e200e1",
   "metadata": {},
   "source": [
    "Q2. Why *args and **kwargs is used in some functions? Create a function each for *args and **kwargs\n",
    "to demonstrate their use."
   ]
  },
  {
   "cell_type": "markdown",
   "id": "213ec849-2b13-4b2c-9d5e-5e24f99a680d",
   "metadata": {},
   "source": [
    "You can use *args and **kwargs as argument of a function when you are unsure about the number of arguments to pass in the functions."
   ]
  },
  {
   "cell_type": "code",
   "execution_count": 7,
   "id": "dbd5fc49-d482-45a3-af48-284771463c48",
   "metadata": {},
   "outputs": [],
   "source": [
    "#EX.\n",
    "#*args\n",
    "\n",
    "def add(*numbers):\n",
    "    total = 0\n",
    "    for num in numbers:\n",
    "        total += num\n",
    "    return total"
   ]
  },
  {
   "cell_type": "code",
   "execution_count": 8,
   "id": "3dfc8f42-ae2a-484c-85ae-2bf8e703de4b",
   "metadata": {},
   "outputs": [
    {
     "data": {
      "text/plain": [
       "9"
      ]
     },
     "execution_count": 8,
     "metadata": {},
     "output_type": "execute_result"
    }
   ],
   "source": [
    "add(2,3,4)"
   ]
  },
  {
   "cell_type": "code",
   "execution_count": 9,
   "id": "e7c3d92b-b829-42f9-bae2-e2957ae0c9af",
   "metadata": {},
   "outputs": [],
   "source": [
    "#EX.\n",
    "#**kwargs\n",
    "\n",
    "def total_fruits(**kwargs):\n",
    "    print(kwargs)"
   ]
  },
  {
   "cell_type": "code",
   "execution_count": 10,
   "id": "e0f57a35-ce2c-4e49-9174-7d15aa6e9d07",
   "metadata": {},
   "outputs": [
    {
     "name": "stdout",
     "output_type": "stream",
     "text": [
      "{'banana': 5, 'mango': 7, 'apple': 8}\n"
     ]
    }
   ],
   "source": [
    "total_fruits(banana=5, mango=7, apple=8)"
   ]
  },
  {
   "cell_type": "code",
   "execution_count": null,
   "id": "0eb2a49a-26ef-440b-a52f-35a75a582508",
   "metadata": {},
   "outputs": [],
   "source": []
  },
  {
   "cell_type": "code",
   "execution_count": null,
   "id": "c2cf0f9c-76b6-4ebc-ae39-8d825b8d7a78",
   "metadata": {},
   "outputs": [],
   "source": []
  },
  {
   "cell_type": "markdown",
   "id": "34b62a7f-747f-4714-aeca-b73b86a902d8",
   "metadata": {},
   "source": [
    "Q3.  What is an iterator in python? Name the method used to initialise the iterator object and the method\n",
    "used for iteration. Use these methods to print the first five elements of the given list [2, 4, 6, 8, 10, 12, 14,\n",
    "16, 18, 20]."
   ]
  },
  {
   "cell_type": "markdown",
   "id": "00082448-4dc5-4fb1-8c17-d9b8eea76625",
   "metadata": {},
   "source": [
    "In Python, an iterator is an object that allows you to iterate over collections of data, such as lists, tuples, dictionaries, and sets"
   ]
  },
  {
   "cell_type": "markdown",
   "id": "81716645-45c0-4fec-91e8-97425bb29180",
   "metadata": {},
   "source": [
    "An iterator in Python is an object that is used to iterate over iterable objects like lists, tuples, dicts, and sets. The Python iterators object is initialized using the iter () method. It uses the next () method for iteration."
   ]
  },
  {
   "cell_type": "code",
   "execution_count": 11,
   "id": "a7a6d27e-6911-47a7-b269-bf1ace0ae65e",
   "metadata": {},
   "outputs": [
    {
     "name": "stdout",
     "output_type": "stream",
     "text": [
      "2\n",
      "4\n",
      "6\n",
      "8\n"
     ]
    }
   ],
   "source": [
    "#EX.\n",
    "\n",
    "list = [2,4,6,8,10,12,14,16,18,20]\n",
    "\n",
    "iterator =iter(list)\n",
    "print(next(iterator))\n",
    "print(next(iterator))\n",
    "print(next(iterator))\n",
    "print(next(iterator))"
   ]
  },
  {
   "cell_type": "code",
   "execution_count": null,
   "id": "918ecedc-5b02-4f4a-98bb-3924579532f2",
   "metadata": {},
   "outputs": [],
   "source": []
  },
  {
   "cell_type": "code",
   "execution_count": null,
   "id": "6d11b61e-8d7b-4add-bd71-15215785b44b",
   "metadata": {},
   "outputs": [],
   "source": []
  },
  {
   "cell_type": "markdown",
   "id": "8278d7e0-45bb-4ee2-bd89-39374f167b26",
   "metadata": {},
   "source": [
    "Q4.  What is a generator function in python? Why yield keyword is used? Give an example of a generator\n",
    "function."
   ]
  },
  {
   "cell_type": "markdown",
   "id": "424a592d-7dae-4ad5-b2f0-41a50ac5d5b6",
   "metadata": {},
   "source": [
    "A Python generator function allows you to declare a function that behaves like an iterator, providing a faster and easier way to create iterators. They can be used on an abstract container of data to turn it into an iterable object like lists, dictionaries and strings."
   ]
  },
  {
   "cell_type": "markdown",
   "id": "2842a0fb-a600-43de-bf0e-990fbcaf1fd4",
   "metadata": {},
   "source": [
    "yield keyword is used to create a generator function. A type of function that is memory efficient and can be used like an iterator object."
   ]
  },
  {
   "cell_type": "code",
   "execution_count": 13,
   "id": "8f39e9f1-fefb-4741-95bb-ee6257e837ce",
   "metadata": {},
   "outputs": [],
   "source": [
    "#ex.\n",
    "\n",
    "def count_test(n):\n",
    "        count=1\n",
    "        while count<=n:\n",
    "            yield count\n",
    "            count=count+1"
   ]
  },
  {
   "cell_type": "code",
   "execution_count": 14,
   "id": "aa1266ac-c558-4eda-9a6d-8d0a27993de8",
   "metadata": {},
   "outputs": [],
   "source": [
    "c =count_test(5)"
   ]
  },
  {
   "cell_type": "code",
   "execution_count": 15,
   "id": "58d0aa5f-95ce-4478-aab2-a9ad38feda7e",
   "metadata": {},
   "outputs": [
    {
     "name": "stdout",
     "output_type": "stream",
     "text": [
      "1\n",
      "2\n",
      "3\n",
      "4\n",
      "5\n"
     ]
    }
   ],
   "source": [
    "for i in c:\n",
    "    print(i)"
   ]
  },
  {
   "cell_type": "code",
   "execution_count": null,
   "id": "b6983982-9470-4fc1-8442-f5eb4c321f0a",
   "metadata": {},
   "outputs": [],
   "source": []
  },
  {
   "cell_type": "code",
   "execution_count": null,
   "id": "194c8ee6-2ecb-4703-8ca4-5754796a394a",
   "metadata": {},
   "outputs": [],
   "source": []
  },
  {
   "cell_type": "markdown",
   "id": "21b34191-60a6-46f4-aaf4-e1e7fe4784e9",
   "metadata": {},
   "source": [
    "Q5. Create a generator function for prime numbers less than 1000. Use the next() method to print the\n",
    "first 20 prime numbers."
   ]
  },
  {
   "cell_type": "code",
   "execution_count": 18,
   "id": "70a37034-df96-44fd-a273-ddbaaa030088",
   "metadata": {},
   "outputs": [
    {
     "name": "stdout",
     "output_type": "stream",
     "text": [
      "2\n",
      "3\n",
      "5\n",
      "7\n",
      "11\n",
      "13\n",
      "17\n",
      "19\n",
      "23\n",
      "29\n",
      "31\n",
      "37\n",
      "41\n",
      "43\n",
      "47\n",
      "53\n",
      "59\n",
      "61\n",
      "67\n",
      "71\n"
     ]
    }
   ],
   "source": [
    "def prime_generator():\n",
    "    num = 2\n",
    "    primes = []\n",
    "    while True:\n",
    "        is_prime = True\n",
    "        for prime in primes:\n",
    "            if num % prime == 0:\n",
    "                is_prime = False\n",
    "                break\n",
    "        if is_prime:\n",
    "            primes.append(num)\n",
    "            yield num\n",
    "        num += 1\n",
    "        \n",
    "prime_gen = prime_generator()\n",
    "\n",
    "for _ in range(20):\n",
    "    print(next(prime_gen))"
   ]
  },
  {
   "cell_type": "code",
   "execution_count": null,
   "id": "5f0eb56b-aafa-4979-9fc8-7a86ae7972db",
   "metadata": {},
   "outputs": [],
   "source": []
  },
  {
   "cell_type": "code",
   "execution_count": null,
   "id": "bc643043-addc-4743-956e-71b17443d508",
   "metadata": {},
   "outputs": [],
   "source": []
  },
  {
   "cell_type": "markdown",
   "id": "d691629d-7af1-4f75-af3f-3ef00f5049db",
   "metadata": {},
   "source": [
    "Q6. Write a python program to print the first 10 Fibonacci numbers using a while loop."
   ]
  },
  {
   "cell_type": "code",
   "execution_count": 19,
   "id": "34d34dcb-792b-497f-b632-992f1c23a338",
   "metadata": {},
   "outputs": [],
   "source": [
    "def test_fib(n):\n",
    "    a,b=0,1\n",
    "    for i in range(n):\n",
    "        yield a\n",
    "        a,b=b,a+b"
   ]
  },
  {
   "cell_type": "code",
   "execution_count": 21,
   "id": "92866e0a-b400-42be-9b49-1fbc439f07c2",
   "metadata": {},
   "outputs": [
    {
     "name": "stdout",
     "output_type": "stream",
     "text": [
      "0\n",
      "1\n",
      "1\n",
      "2\n",
      "3\n",
      "5\n",
      "8\n",
      "13\n",
      "21\n",
      "34\n"
     ]
    }
   ],
   "source": [
    "for i in test_fib(10):\n",
    "    print(i)"
   ]
  },
  {
   "cell_type": "code",
   "execution_count": null,
   "id": "e8d11580-cd02-4ed5-8787-24f7bb78a92c",
   "metadata": {},
   "outputs": [],
   "source": []
  },
  {
   "cell_type": "code",
   "execution_count": null,
   "id": "0e72792f-8da7-49b2-81d7-2ee8577607f1",
   "metadata": {},
   "outputs": [],
   "source": []
  },
  {
   "cell_type": "markdown",
   "id": "83c83b07-7235-44ed-a446-adc7286bd9ac",
   "metadata": {},
   "source": [
    "Q7. Write a List Comprehension to iterate through the given string: ‘pwskills’.\n",
    "\n",
    "Expected output: ['p', 'w', 's', 'k', 'i', 'l', 'l', 's'] "
   ]
  },
  {
   "cell_type": "code",
   "execution_count": 22,
   "id": "783d5020-ba82-4457-b6bb-6a4575d17ab1",
   "metadata": {},
   "outputs": [],
   "source": [
    "s = 'pwskills'\n",
    "output = [char for char in s]"
   ]
  },
  {
   "cell_type": "code",
   "execution_count": 23,
   "id": "a52744f8-cbe4-494c-b18d-245385d1765a",
   "metadata": {},
   "outputs": [
    {
     "data": {
      "text/plain": [
       "['p', 'w', 's', 'k', 'i', 'l', 'l', 's']"
      ]
     },
     "execution_count": 23,
     "metadata": {},
     "output_type": "execute_result"
    }
   ],
   "source": [
    "output"
   ]
  },
  {
   "cell_type": "code",
   "execution_count": null,
   "id": "96e3cd11-c40c-430d-96ae-e450808e3360",
   "metadata": {},
   "outputs": [],
   "source": []
  },
  {
   "cell_type": "code",
   "execution_count": null,
   "id": "bf3dc674-83f2-40f8-8e08-5c28e2bb6158",
   "metadata": {},
   "outputs": [],
   "source": []
  },
  {
   "cell_type": "markdown",
   "id": "32a5a4ce-bc17-4f84-841b-bb2e6287f8c6",
   "metadata": {},
   "source": [
    "Q8. Write a python program to check whether a given number is Palindrome or not using a while loop."
   ]
  },
  {
   "cell_type": "code",
   "execution_count": 24,
   "id": "664077ec-b442-4efd-89f5-2e84c46908e7",
   "metadata": {},
   "outputs": [
    {
     "name": "stdin",
     "output_type": "stream",
     "text": [
      "Enter a number:  77\n"
     ]
    },
    {
     "name": "stdout",
     "output_type": "stream",
     "text": [
      "The number 77 is a palindrome.\n"
     ]
    }
   ],
   "source": [
    "num = int(input(\"Enter a number: \"))\n",
    "original_num = num  \n",
    "reverse_num = 0     \n",
    "\n",
    "while num > 0:\n",
    "    digit = num % 10          \n",
    "    reverse_num = reverse_num * 10 + digit  \n",
    "    num = num // 10           \n",
    "\n",
    "if original_num == reverse_num:\n",
    "    print(f\"The number {original_num} is a palindrome.\")\n",
    "else:\n",
    "    print(f\"The number {original_num} is not a palindrome.\")"
   ]
  },
  {
   "cell_type": "code",
   "execution_count": null,
   "id": "a583a39d-c520-4768-8a4e-f6de04da825e",
   "metadata": {},
   "outputs": [],
   "source": []
  },
  {
   "cell_type": "code",
   "execution_count": null,
   "id": "be1ed954-9341-4992-8867-7cd7ac87e67d",
   "metadata": {},
   "outputs": [],
   "source": []
  },
  {
   "cell_type": "markdown",
   "id": "7204326f-5a35-427f-bc5d-1336e725ad14",
   "metadata": {},
   "source": [
    "Q9. Write a code to print odd numbers from 1 to 100 using list comprehension."
   ]
  },
  {
   "cell_type": "code",
   "execution_count": null,
   "id": "70f664f6-32ba-42dd-a3cc-d43bf7def9ed",
   "metadata": {},
   "outputs": [],
   "source": [
    "odd_numbers = [num for num in range(1, 101) if num % 2 != 0]"
   ]
  }
 ],
 "metadata": {
  "kernelspec": {
   "display_name": "Python 3 (ipykernel)",
   "language": "python",
   "name": "python3"
  },
  "language_info": {
   "codemirror_mode": {
    "name": "ipython",
    "version": 3
   },
   "file_extension": ".py",
   "mimetype": "text/x-python",
   "name": "python",
   "nbconvert_exporter": "python",
   "pygments_lexer": "ipython3",
   "version": "3.10.8"
  }
 },
 "nbformat": 4,
 "nbformat_minor": 5
}
